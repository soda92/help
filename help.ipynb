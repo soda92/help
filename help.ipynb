{
 "cells": [
  {
   "cell_type": "code",
   "execution_count": 4,
   "source": [
    "import sympy as sp\n",
    "\n",
    "a = sp.Symbol('a')\n",
    "b = sp.Symbol('b')\n",
    "\n",
    "M = sp.Matrix(\n",
    "    [[3+a, 3, 3, 3],\n",
    "    [3, 3-a, 3, 3],\n",
    "    [3, 3, 3+b, 3],\n",
    "    [3, 3, 3, 3-b]]\n",
    "    )"
   ],
   "outputs": [],
   "metadata": {}
  },
  {
   "cell_type": "code",
   "execution_count": 5,
   "source": [
    "M.det()"
   ],
   "outputs": [
    {
     "output_type": "execute_result",
     "data": {
      "text/latex": [
       "$\\displaystyle a^{2} b^{2}$"
      ],
      "text/plain": [
       "a**2*b**2"
      ]
     },
     "metadata": {},
     "execution_count": 5
    }
   ],
   "metadata": {}
  },
  {
   "cell_type": "code",
   "execution_count": null,
   "source": [],
   "outputs": [],
   "metadata": {}
  }
 ],
 "metadata": {
  "orig_nbformat": 4,
  "language_info": {
   "name": "python",
   "version": "3.8.10",
   "mimetype": "text/x-python",
   "codemirror_mode": {
    "name": "ipython",
    "version": 3
   },
   "pygments_lexer": "ipython3",
   "nbconvert_exporter": "python",
   "file_extension": ".py"
  },
  "kernelspec": {
   "name": "python3",
   "display_name": "Python 3.8.10 64-bit"
  },
  "interpreter": {
   "hash": "916dbcbb3f70747c44a77c7bcd40155683ae19c65e1c03b4aa3499c5328201f1"
  }
 },
 "nbformat": 4,
 "nbformat_minor": 2
}